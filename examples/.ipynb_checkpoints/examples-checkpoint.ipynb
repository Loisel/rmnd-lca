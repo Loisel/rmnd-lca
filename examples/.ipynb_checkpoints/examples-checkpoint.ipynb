{
 "cells": [
  {
   "cell_type": "markdown",
   "metadata": {},
   "source": [
    "# Use examples of [premise](https://github.com/romainsacchi/premise)\n",
    "\n",
    "Author: [romainsacchi](https://github.com/romainsacchi)\n",
    "\n",
    "This notebook shows examples on how to use `premise` to create life cycle invneotries databases for prospective environmental impact assessment.\n",
    "\n",
    "This library extract useful information from IAM model output files (such as those of REMIND or IMAGE) and aligns inventories in the ecoinvent database accordingly.\n",
    "\n",
    "With version 0.2.0, the following transformation are available:\n",
    "\n",
    "* `update_electricity()`: create regional electricity markets and adjust efficiency of power plants\n",
    "* `update_cement()`: creates regional markets for clinker production and adjust clinker production efficiency\n",
    "* `update_steel()`: creates regional markets for steel and adjust steel production efficiency and the supply of secondary steel\n",
    "* `update_cars()`: produces fleet average cars and relinks to activities consuming pasenger car trnasport\n",
    "* `update_trucks()`: produces fleet average trucks and relinks to activities consuming lorry trnasport\n",
    "* `update_solar_PV()`: updates efficiency of solar PV modules\n",
    "\n",
    "Additional documentation on the methodology is available [here](https://premise.readthedocs.io/en/latest/introduction.html).\n",
    "\n",
    "## Requirements\n",
    "\n",
    "* Pyhton 3.7 or above\n",
    "* a user license for ecoinvent v.3"
   ]
  },
  {
   "cell_type": "markdown",
   "metadata": {},
   "source": [
    "# Use case with [brightway2](https://brightway.dev/)\n",
    "\n",
    "`brightway2` is an open source LCA framework for Python.\n",
    "To use `premise` from `brightway2`, it requires that you have a open `brightway2` project with abiosphere as well as an\n",
    "ecoinvent v.3 database registered in that project."
   ]
  },
  {
   "cell_type": "code",
   "execution_count": null,
   "metadata": {},
   "outputs": [],
   "source": [
    "from premise import *\n",
    "import brightway2 as bw"
   ]
  },
  {
   "cell_type": "code",
   "execution_count": null,
   "metadata": {},
   "outputs": [],
   "source": [
    "bw.projects.set_current(\"your_bw2_project\")"
   ]
  },
  {
   "cell_type": "markdown",
   "metadata": {},
   "source": [
    "### List of available scenarios\n",
    "\n",
    "Some scenarios come installed with the library.\n",
    "They are stored in `data/iam_ouput_files` from the root directory.\n",
    "They are all within the SSP2 pathway (middle of the road).\n",
    "\n",
    "With REMIND:\n",
    "* \"SSP2-Base\"\n",
    "* \"SSP2-NPi\"\n",
    "* \"SSP2-NDC\"\n",
    "* \"SSP2-PkBudg1300\"\n",
    "* \"SSP2-PkBudg1100\"\n",
    "* \"SSP2-PkBudg900\"\n",
    "\n",
    "With IMAGE:\n",
    "* \"SSP2-Base\"\n"
   ]
  },
  {
   "cell_type": "markdown",
   "metadata": {},
   "source": [
    "### Database creation from default scenarios\n",
    "\n",
    "To create a scenario using REMIND's SSP2 Base pathway, from ecoinvent 3.6 for the year 2028, one would execute the following cell. This leads to the extraction of the database, some cleanup as well as importing a few additional inventories."
   ]
  },
  {
   "cell_type": "code",
   "execution_count": null,
   "metadata": {},
   "outputs": [],
   "source": [
    "ndb = NewDatabase(\n",
    "            scenarios=[\n",
    "                {\"model\":\"remind\", \"pathway\":\"SSP2-Base\", \"year\":2028}\n",
    "            ],\n",
    "            source_db=\"ecoinvent 3.6 cutoff\", # <-- name of the database in the BW2 project. Must be a string.\n",
    "            source_version=\"3.6\", # <-- version of ecoinvent. Can be \"3.5\", \"3.6\", \"3.7\" or \"3.7.1\". Must be a string.\n",
    "    )"
   ]
  },
  {
   "cell_type": "markdown",
   "metadata": {},
   "source": [
    "or here with ecoinvent 3.7.1"
   ]
  },
  {
   "cell_type": "code",
   "execution_count": null,
   "metadata": {},
   "outputs": [],
   "source": [
    "ndb = NewDatabase(\n",
    "        scenarios=[\n",
    "                {\"model\":\"remind\", \"pathway\":\"SSP2-Base\", \"year\":2028}\n",
    "            ],\n",
    "        source_db=\"ecoinvent 3.7 cutoff\", # <-- this is NEW.\n",
    "        source_version=\"3.7.1\", # <-- this is NEW\n",
    "    )"
   ]
  },
  {
   "cell_type": "markdown",
   "metadata": {},
   "source": [
    "If you want to create multiple databases at once, just populate the `scenarios` list."
   ]
  },
  {
   "cell_type": "code",
   "execution_count": null,
   "metadata": {},
   "outputs": [],
   "source": [
    "ndb = NewDatabase(\n",
    "            scenarios=[\n",
    "                {\"model\":\"remind\", \"pathway\":\"SSP2-Base\", \"year\":2028},\n",
    "                {\"model\":\"remind\", \"pathway\":\"SSP2-NPi\", \"year\":2032}\n",
    "            ],\n",
    "            source_db=\"ecoinvent 3.5 cutoff\", # <-- name of the database. Must be a string.\n",
    "            source_version=\"3.5\", # <-- version of ecoinvent. Can be \"3.5\", \"3.6\", \"3.7\" or \"3.7.1\"\n",
    "                 )"
   ]
  },
  {
   "cell_type": "markdown",
   "metadata": {},
   "source": [
    "When the database is loaded and the additional inventories imported, you can apply a transformation function.\n",
    "For example here, we adjust the efficiency of the solar PVs to the two scenarios we have loaded.\n",
    "We go more in details later."
   ]
  },
  {
   "cell_type": "code",
   "execution_count": null,
   "metadata": {},
   "outputs": [],
   "source": [
    "ndb.update_solar_PV()"
   ]
  },
  {
   "cell_type": "markdown",
   "metadata": {},
   "source": [
    "And then, we register these two databases back into brightway2."
   ]
  },
  {
   "cell_type": "code",
   "execution_count": null,
   "metadata": {},
   "outputs": [],
   "source": [
    "ndb.write_db_to_brightway()"
   ]
  },
  {
   "cell_type": "markdown",
   "metadata": {},
   "source": [
    "### Database creation from non-default scenarios\n",
    "\n",
    "If you have some specific IAM scenarios (one that is not included in `premise`) you would like to build a database from, you can specify the directory to those.\n",
    "\n",
    "**Important remark**: your scenario file must begin with \"remind_\" or \"image_\"."
   ]
  },
  {
   "cell_type": "code",
   "execution_count": null,
   "metadata": {},
   "outputs": [],
   "source": [
    "ndb = NewDatabase(\n",
    "    scenarios = [{\"model\":\"remind\", \"pathway\":\"my_special_scenario\", \"year\":2028, \"filepath\":r\"C:\\Users\\sacchi_r\\Downloads\\REMIND\"}],        \n",
    "    source_db=\"ecoinvent 3.6 cutoff\", # <-- name of the database\n",
    "    source_version=3.6, # <-- version of ecoinvent\n",
    "                 )"
   ]
  },
  {
   "cell_type": "markdown",
   "metadata": {},
   "source": [
    "### Adding inventories\n",
    "Upon the database extraction, you can import some of your Brightway2-compatible inventories like so:"
   ]
  },
  {
   "cell_type": "code",
   "execution_count": null,
   "metadata": {},
   "outputs": [],
   "source": [
    "ndb = NewDatabase(\n",
    "            scenarios=[\n",
    "                {\"model\":\"remind\", \"pathway\":\"SSP2-Base\", \"year\":2030},\n",
    "                {\"model\":\"remind\", \"pathway\":\"SSP2-Base\", \"year\":2030},\n",
    "            ],\n",
    "            source_db=\"ecoinvent 3.7 cutoff\", \n",
    "            source_version=\"3.7.1\",\n",
    "            additional_inventories= [ # <-- this is NEW\n",
    "                {\"filepath\": r\"filepath\\to\\excel_file.xlsx\", \"ecoinvent version\": \"3.7\"}, # <-- this is NEW\n",
    "                {\"filepath\": r\"filepath\\to\\another_excel_file.xlsx\", \"ecoinvent version\": \"3.7\"}, # <-- this is NEW\n",
    "            ] # <-- this is NEW\n",
    "                 )"
   ]
  },
  {
   "cell_type": "markdown",
   "metadata": {},
   "source": [
    "# Use case with ecospold2\n",
    "\n",
    "The source database does not have to be from a brightway2 project.\n",
    "It can be directly extracted from the bunch of ecospold2 files one gets when downloaded from the [ecoinvent website](https://ecoinvent.org).\n",
    "\n",
    "For this, one needs to specify the argument `source_db = \"ecospold\"` as well as `source_file_path`, which is the directory leading to the ecospold files.\n",
    "\n",
    "For example, here we combine the use of a specific (non-default) IAM scenario file with the use of ecospold2 files as data source (ecoinvent 3.5 in this case)."
   ]
  },
  {
   "cell_type": "code",
   "execution_count": null,
   "metadata": {},
   "outputs": [],
   "source": [
    "ndb = NewDatabase(\n",
    "        scenarios = [\n",
    "            {\"model\":\"remind\", \"pathway\":\"my_special_scenario\", \"year\":2028, \"filepath\":r\"C:\\Users\\sacchi_r\\Downloads\\REMIND\"}\n",
    "        ],        \n",
    "        source_type=\"ecospold\", # <--- this is NEW\n",
    "        source_file_path=r\"C:\\Users\\sacchi_r\\Dropbox\\Public\\ecoinvent 3.5_cutoff_ecoSpold02\\datasets\", # <-- this is NEW\n",
    "        source_version=\"3.5\",\n",
    "    )"
   ]
  },
  {
   "cell_type": "markdown",
   "metadata": {},
   "source": [
    "# Transformation functions\n",
    "\n",
    "These functions modify the extracted database:\n",
    "\n",
    "* **update_electricity()**: alignment of regional electricity production mixes as well as efficiencies for a number of\n",
    "  electricity production technologies, including Carbon Capture and Storage technologies.\n",
    "* **update_cement()**: adjustment of technologies for cement production (dry, semi-dry, wet, with pre-heater or not),\n",
    "  fuel efficiency of kilns, fuel mix of kilns (including biomass and waste fuels) and clinker-to-cement ratio.\n",
    "* **update_steel()**: adjustment of process efficiency, fuel mix and share of secondary steel in steel markets.\n",
    "* **update_solar_PV()**: adjustment of solar PV panels efficiency to the year considered.\n",
    "\n",
    "They can be applied *separately*, *consecutively* or *altogether* (using instead **.update_all()**).\n",
    "They will apply to all the scenario-specific databases listed in `scenarios`."
   ]
  },
  {
   "cell_type": "code",
   "execution_count": null,
   "metadata": {},
   "outputs": [],
   "source": [
    "ndb.update_all()"
   ]
  },
  {
   "cell_type": "markdown",
   "metadata": {},
   "source": [
    "#### Additional options for database creation with cars and truck inventories\n",
    "\n",
    "Two additional functions are available:\n",
    "* **update_cars()**: creates updated inventories for fleet average passenger cars and links back to activities that consume\n",
    "transport.\n",
    "* **update_trucks()**: creates updated inventories for fleet average lorry trucks and links back to activities that consume\n",
    "transport.\n",
    "\n",
    "\n",
    "By default, inventories for passenger cars and trucks are not added upon the creation of the database.\n",
    "But you can add them by adding the following keys to the scenario dictionary: `passenger cars` and `trucks`.\n",
    "This will create inventories for passenger cars and trucks for each region of the IAM model.\n",
    "\n",
    "For example, here we create car inventories in the first scenario (but only for the region *EUR*), and both cars and trucks inventories in the second scenario (for all regions). Leaving an empty dictionary indicates that we do not apply any filter in terms of regions and that we do not provide a fleet composition file (a default one is then used)."
   ]
  },
  {
   "cell_type": "code",
   "execution_count": 1,
   "metadata": {},
   "outputs": [],
   "source": [
    "from premise import *\n",
    "import brightway2 as bw\n",
    "bw.projects.set_current(\"your_bw2_project\")"
   ]
  },
  {
   "cell_type": "code",
   "execution_count": 2,
   "metadata": {},
   "outputs": [
    {
     "name": "stdout",
     "output_type": "stream",
     "text": [
      "No fleet composition file is provided for trucks.Fleet average vehicles will be built using default fleet projection.\n",
      "\n",
      "////////////////////// EXTRACTING SOURCE DATABASE ///////////////////////\n",
      "Getting activity data\n"
     ]
    },
    {
     "name": "stderr",
     "output_type": "stream",
     "text": [
      "100%|███████████████████████████████████████████████████████████████████████████████████████████████████| 19128/19128 [00:00<00:00, 71832.70it/s]\n"
     ]
    },
    {
     "name": "stdout",
     "output_type": "stream",
     "text": [
      "Adding exchange data to activities\n"
     ]
    },
    {
     "name": "stderr",
     "output_type": "stream",
     "text": [
      "100%|██████████████████████████████████████████████████████████████████████████████████████████████████| 621717/621717 [01:16<00:00, 8127.05it/s]\n"
     ]
    },
    {
     "name": "stdout",
     "output_type": "stream",
     "text": [
      "Filling out exchange data\n"
     ]
    },
    {
     "name": "stderr",
     "output_type": "stream",
     "text": [
      "100%|████████████████████████████████████████████████████████████████████████████████████████████████████| 19128/19128 [00:05<00:00, 3194.97it/s]\n"
     ]
    },
    {
     "name": "stdout",
     "output_type": "stream",
     "text": [
      "Set missing location of datasets to global scope.\n",
      "Set missing location of production exchanges to scope of dataset.\n",
      "Correct missing location of technosphere exchanges.\n",
      "Remove empty exchanges.\n",
      "\n",
      "/////////////////// IMPORTING DEFAULT INVENTORIES ////////////////////\n",
      "Importing necessary inventories...\n",
      "\n",
      "Done!\n",
      "\n"
     ]
    }
   ],
   "source": [
    "ndb = NewDatabase(\n",
    "            scenarios=[\n",
    "                {\"model\":\"remind\", \"pathway\":\"SSP2-Base\", \"year\":2030,\"passenger cars\": {\"regions\":[\"EUR\"]}},\n",
    "                {\"model\":\"remind\", \"pathway\":\"SSP2-Base\", \"year\":2030, \"passenger cars\":{}, \"trucks\":{}},\n",
    "            ],\n",
    "            source_db=\"ecoinvent 3.7 cutoff\",\n",
    "            source_version=\"3.7\", \n",
    "            \n",
    "                 )"
   ]
  },
  {
   "cell_type": "markdown",
   "metadata": {},
   "source": [
    "Then we need to explicitly run `update_cars()` and/or `update_trucks()` (or `update_all()`)."
   ]
  },
  {
   "cell_type": "code",
   "execution_count": null,
   "metadata": {},
   "outputs": [],
   "source": [
    "ndb.update_cars()"
   ]
  },
  {
   "cell_type": "code",
   "execution_count": null,
   "metadata": {},
   "outputs": [],
   "source": [
    "ndb.update_trucks()"
   ]
  },
  {
   "cell_type": "code",
   "execution_count": 4,
   "metadata": {
    "scrolled": false
   },
   "outputs": [
    {
     "name": "stdout",
     "output_type": "stream",
     "text": [
      "Write new database(s) to Brightway2.\n",
      "19631 datasets\n",
      "631583 exchanges\n",
      "0 unlinked exchanges\n",
      "  \n"
     ]
    },
    {
     "name": "stderr",
     "output_type": "stream",
     "text": [
      "Writing activities to SQLite3 database:\n",
      "0% [##############################] 100% | ETA: 00:00:00\n",
      "Total time elapsed: 00:02:02\n"
     ]
    },
    {
     "name": "stdout",
     "output_type": "stream",
     "text": [
      "Title: Writing activities to SQLite3 database:\n",
      "  Started: 03/03/2021 23:15:34\n",
      "  Finished: 03/03/2021 23:17:36\n",
      "  Total time elapsed: 00:02:02\n",
      "  CPU %: 72.60\n",
      "  Memory %: 38.67\n",
      "Created database: ecoinvent_remind_SSP2-Base_2030\n"
     ]
    }
   ],
   "source": [
    "ndb.write_db_to_brightway()"
   ]
  },
  {
   "cell_type": "markdown",
   "metadata": {},
   "source": [
    "### Fleet files\n",
    "\n",
    "A last word about passenger cars and trucks: it is possible to pass a fleet composition file to generate fleet average inventories and limit those to specific regions (here, the European region)."
   ]
  },
  {
   "cell_type": "code",
   "execution_count": null,
   "metadata": {
    "scrolled": true
   },
   "outputs": [],
   "source": [
    "ndb = NewDatabase(\n",
    "            scenarios=[\n",
    "                {\"model\":\"remind\", \"pathway\":\"SSP2-Base\", \"year\":2030,\n",
    "                 \"passenger cars\": {\"regions\":[\"EUR\", \"NEU\"],\n",
    "                                    \"fleet file\":r\"filepath/to/fleet_file.csv.csv\"},\n",
    "                 \"trucks\": {\"regions\":[\"EUR\"]}\n",
    "                },\n",
    "                {\"model\":\"image\", \"pathway\":\"SSP2-Base\", \"year\":2030,},\n",
    "            ],\n",
    "            source_db=\"ecoinvent 3.7 cutoff\",\n",
    "            source_version=\"3.7\"\n",
    "    )"
   ]
  },
  {
   "cell_type": "markdown",
   "metadata": {},
   "source": [
    "### Exclude specific functions\n",
    "Finally, we can exclude some transformation functions when executing `update_all()` like so:"
   ]
  },
  {
   "cell_type": "code",
   "execution_count": null,
   "metadata": {},
   "outputs": [],
   "source": [
    "ndb = NewDatabase(\n",
    "            scenarios=[\n",
    "                {\"model\":\"remind\", \"pathway\":\"SSP2-Base\", \"year\":2030,\n",
    "                 \"exclude\": [\"update_steel\"], # <-- do not execute update_seel()\n",
    "                 \"passenger cars\": {\"regions\":[\"EUR\"]},\"trucks\": {\"regions\":[\"EUR\"]}\n",
    "                },\n",
    "                {\"model\":\"remind\", \"pathway\":\"SSP2-Base\", \"year\":2030,},\n",
    "            ],\n",
    "            source_db=\"ecoinvent 3.7 cutoff\",\n",
    "            source_version=\"3.7\", \n",
    ")"
   ]
  },
  {
   "cell_type": "markdown",
   "metadata": {},
   "source": [
    "# Export"
   ]
  },
  {
   "cell_type": "markdown",
   "metadata": {},
   "source": [
    "### As a Brightway2 database"
   ]
  },
  {
   "cell_type": "markdown",
   "metadata": {},
   "source": [
    "Export the modified database to brightway2"
   ]
  },
  {
   "cell_type": "code",
   "execution_count": null,
   "metadata": {},
   "outputs": [],
   "source": [
    "ndb.write_db_to_brightway()"
   ]
  },
  {
   "cell_type": "markdown",
   "metadata": {},
   "source": [
    "### As a sparse matrix representation"
   ]
  },
  {
   "cell_type": "markdown",
   "metadata": {},
   "source": [
    "Or export it as a sparse matrix representation.\n",
    "\n",
    "This will export four files:\n",
    "\n",
    "* \"A_matrix.csv\": matrix coordinates and values of shape (index of activity; index of product; value) for the technosphere\n",
    "* \"A_matrix_index.csv\": labels for indices for A matrix of shape (name of activity, reference product, unit, location, index)\n",
    "* \"B_matrix.csv\": matrix coordinates and values of shape (index of activity; index of biosphere flow; value) for the biosphere\n",
    "* \"B_matrix_index.csv\": labels for indices for B matrix of shape (name of biosphere flow, main compartment, sub-compartmnet, unit, index)\n",
    "\n",
    "As a convenience, you can specifiy a directory where to store the exported matrices.\n",
    "If the directory does not exist, it will be created.\n",
    "If you leave it unspecified, they will be stored in **data/matrices** in the root folder of the library."
   ]
  },
  {
   "cell_type": "code",
   "execution_count": null,
   "metadata": {},
   "outputs": [],
   "source": [
    "ndb.write_db_to_matrices(filepath=r\"C:/Users/sacchi_r/Downloads/exported_matrices\")"
   ]
  },
  {
   "cell_type": "markdown",
   "metadata": {},
   "source": [
    "### As a SimaPro CSV file"
   ]
  },
  {
   "cell_type": "code",
   "execution_count": null,
   "metadata": {},
   "outputs": [],
   "source": [
    "ndb.write_db_to_simapro(filepath=r\"C:/Users/sacchi_r/Downloads/exported_simapro_file\")"
   ]
  },
  {
   "cell_type": "code",
   "execution_count": null,
   "metadata": {},
   "outputs": [],
   "source": []
  }
 ],
 "metadata": {
  "kernelspec": {
   "display_name": "Python 3",
   "language": "python",
   "name": "python3"
  },
  "language_info": {
   "codemirror_mode": {
    "name": "ipython",
    "version": 3
   },
   "file_extension": ".py",
   "mimetype": "text/x-python",
   "name": "python",
   "nbconvert_exporter": "python",
   "pygments_lexer": "ipython3",
   "version": "3.9.1"
  }
 },
 "nbformat": 4,
 "nbformat_minor": 2
}
