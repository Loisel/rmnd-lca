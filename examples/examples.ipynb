{
 "cells": [
  {
   "cell_type": "markdown",
   "metadata": {},
   "source": [
    "# Use examples of [premise](https://github.com/romainsacchi/premise)\n",
    "\n",
    "Author: [romainsacchi](https://github.com/romainsacchi)\n",
    "\n",
    "This notebook shows examples on how to use `premise` to create life cycle invneotries databases for prospective environmental impact assessment.\n",
    "\n",
    "This library extract useful information from IAM model output files (such as those of REMIND or IMAGE) and aligns inventories in the ecoinvent database accordingly.\n",
    "\n",
    "With version 0.2.0, the following transformation are available:\n",
    "\n",
    "* `update_electricity()`: create regional electricity markets and adjust efficiency of power plants\n",
    "* `update_cement()`: creates regional markets for clinker production and adjust clinker production efficiency\n",
    "* `update_steel()`: creates regional markets for steel and adjust steel production efficiency and the supply of secondary steel\n",
    "* `update_cars()`: produces fleet average cars and relinks to activities consuming pasenger car trnasport\n",
    "* `update_trucks()`: produces fleet average trucks and relinks to activities consuming lorry trnasport\n",
    "* `update_solar_PV()`: updates efficiency of solar PV modules\n",
    "\n",
    "Additional documentation on the methodology is available [here](https://premise.readthedocs.io/en/latest/introduction.html).\n",
    "\n",
    "## Requirements\n",
    "\n",
    "* **Pyhton 3.9 is highly recommended**\n",
    "* a user license for ecoinvent v.3"
   ]
  },
  {
   "cell_type": "markdown",
   "metadata": {},
   "source": [
    "# Use case with [brightway2](https://brightway.dev/)\n",
    "\n",
    "`brightway2` is an open source LCA framework for Python.\n",
    "To use `premise` from `brightway2`, it requires that you have a open `brightway2` project with abiosphere as well as an\n",
    "ecoinvent v.3 database registered in that project."
   ]
  },
  {
   "cell_type": "code",
   "execution_count": null,
   "metadata": {},
   "outputs": [],
   "source": [
    "from premise import *\n",
    "import brightway2 as bw"
   ]
  },
  {
   "cell_type": "code",
   "execution_count": null,
   "metadata": {},
   "outputs": [],
   "source": [
    "bw.projects.set_current(\"your_bw_project\")"
   ]
  },
  {
   "cell_type": "markdown",
   "metadata": {},
   "source": [
    "### List of available scenarios\n",
    "\n",
    "Some scenarios come installed with the library.\n",
    "They are stored in `data/iam_ouput_files` from the root directory.\n",
    "They are all within the SSP2 pathway (middle of the road).\n",
    "\n",
    "With REMIND:\n",
    "* \"SSP2-Base\"\n",
    "* \"SSP2-NPi\"\n",
    "* \"SSP2-NDC\"\n",
    "* \"SSP2-PkBudg1300\"\n",
    "* \"SSP2-PkBudg1100\"\n",
    "* \"SSP2-PkBudg900\"\n",
    "\n",
    "With IMAGE:\n",
    "* \"SSP2-Base\"\n"
   ]
  },
  {
   "cell_type": "markdown",
   "metadata": {},
   "source": [
    "### Database creation from default scenarios\n",
    "\n",
    "To create a scenario using REMIND's SSP2 Base pathway, from ecoinvent 3.6 for the year 2028, one would execute the following cell. This leads to the extraction of the database, some cleanup as well as importing a few additional inventories."
   ]
  },
  {
   "cell_type": "code",
   "execution_count": null,
   "metadata": {},
   "outputs": [],
   "source": [
    "ndb = NewDatabase(\n",
    "            scenarios=[\n",
    "                {\"model\":\"remind\", \"pathway\":\"SSP2-Base\", \"year\":2028}\n",
    "            ],\n",
    "            source_db=\"ecoinvent 3.6 cutoff\", # <-- name of the database in the BW2 project. Must be a string.\n",
    "            source_version=\"3.6\", # <-- version of ecoinvent. Can be \"3.5\", \"3.6\", \"3.7\" or \"3.7.1\". Must be a string.\n",
    "            key='xxxxxxxxxxxxxxxxxxxxxxxxx' # <-- decryption key\n",
    "            # to be requested from the library maintainers if you want ot use default scenarios included in `premise`\n",
    "    )"
   ]
  },
  {
   "cell_type": "markdown",
   "metadata": {},
   "source": [
    "or here with ecoinvent 3.7.1"
   ]
  },
  {
   "cell_type": "code",
   "execution_count": null,
   "metadata": {},
   "outputs": [],
   "source": [
    "ndb = NewDatabase(\n",
    "        scenarios=[\n",
    "                {\"model\":\"remind\", \"pathway\":\"SSP2-Base\", \"year\":2028}\n",
    "            ],\n",
    "        source_db=\"ecoinvent 3.7 cutoff\", # <-- this is NEW.\n",
    "        source_version=\"3.7.1\", # <-- this is NEW\n",
    "        key='xxxxxxxxxxxxxxxxxxxxxxxxx'\n",
    "    )"
   ]
  },
  {
   "cell_type": "markdown",
   "metadata": {},
   "source": [
    "If you want to create multiple databases at once, just populate the `scenarios` list."
   ]
  },
  {
   "cell_type": "code",
   "execution_count": null,
   "metadata": {},
   "outputs": [],
   "source": [
    "ndb = NewDatabase(\n",
    "            scenarios=[\n",
    "                {\"model\":\"remind\", \"pathway\":\"SSP2-Base\", \"year\":2020, \"exclude\": [\"update_electricity\"]},\n",
    "                {\"model\":\"remind\", \"pathway\":\"SSP2-Base\", \"year\":2030},\n",
    "                {\"model\":\"remind\", \"pathway\":\"SSP2-Base\", \"year\":2040},\n",
    "                {\"model\":\"remind\", \"pathway\":\"SSP2-Base\", \"year\":2050},\n",
    "            ],\n",
    "            source_db=\"ecoinvent 3.7 cutoff\", # <-- name of the database. Must be a string.\n",
    "            source_version=\"3.7.1\", # <-- version of ecoinvent. Can be \"3.5\", \"3.6\", \"3.7\" or \"3.7.1\"\n",
    "            key='xxxxxxxxxxxxxxxxxxxxxxxxx'\n",
    ")"
   ]
  },
  {
   "cell_type": "code",
   "execution_count": null,
   "metadata": {},
   "outputs": [],
   "source": [
    "ndb.update_all()"
   ]
  },
  {
   "cell_type": "markdown",
   "metadata": {},
   "source": [
    "When the database is loaded and the additional inventories imported, you can apply a transformation function.\n",
    "For example here, we adjust the efficiency of the solar PVs to the two scenarios we have loaded.\n",
    "We go more in details later."
   ]
  },
  {
   "cell_type": "code",
   "execution_count": null,
   "metadata": {},
   "outputs": [],
   "source": [
    "ndb.update_solar_PV()"
   ]
  },
  {
   "cell_type": "markdown",
   "metadata": {},
   "source": [
    "And then, we register these two databases back into brightway2."
   ]
  },
  {
   "cell_type": "code",
   "execution_count": null,
   "metadata": {},
   "outputs": [],
   "source": [
    "ndb.write_db_to_brightway()"
   ]
  },
  {
   "cell_type": "markdown",
   "metadata": {},
   "source": [
    "### Database creation from non-default scenarios\n",
    "\n",
    "If you have some specific IAM scenarios (one that is not included in `premise`) you would like to build a database from, you can specify the directory to those.\n",
    "\n",
    "**Important remark**: your scenario file must begin with \"remind_\" or \"image_\". When using a non-default scenario that you provide yourself, you do not have to provide a decryption key."
   ]
  },
  {
   "cell_type": "code",
   "execution_count": null,
   "metadata": {},
   "outputs": [],
   "source": [
    "ndb = NewDatabase(\n",
    "    scenarios = [{\"model\":\"remind\", \"pathway\":\"my_special_scenario\", \"year\":2028, \"filepath\":r\"C:\\Users\\sacchi_r\\Downloads\\REMIND\"}],        \n",
    "    source_db=\"ecoinvent 3.6 cutoff\", # <-- name of the database\n",
    "    source_version=3.6, # <-- version of ecoinvent\n",
    "                 )"
   ]
  },
  {
   "cell_type": "markdown",
   "metadata": {},
   "source": [
    "### Adding inventories\n",
    "Upon the database extraction, you can import some of your Brightway2-compatible inventories like so:"
   ]
  },
  {
   "cell_type": "code",
   "execution_count": null,
   "metadata": {},
   "outputs": [],
   "source": [
    "ndb = NewDatabase(\n",
    "            scenarios=[\n",
    "                {\"model\":\"remind\", \"pathway\":\"SSP2-Base\", \"year\":2030},\n",
    "                {\"model\":\"remind\", \"pathway\":\"SSP2-Base\", \"year\":2030},\n",
    "            ],\n",
    "            source_db=\"ecoinvent 3.7 cutoff\", \n",
    "            source_version=\"3.7.1\",\n",
    "            key='xxxxxxxxxxxxxxxxxxxxxxxxx'\n",
    "            additional_inventories= [ # <-- this is NEW\n",
    "                {\"filepath\": r\"filepath\\to\\excel_file.xlsx\", \"ecoinvent version\": \"3.7\"}, # <-- this is NEW\n",
    "                {\"filepath\": r\"filepath\\to\\another_excel_file.xlsx\", \"ecoinvent version\": \"3.7\"}, # <-- this is NEW\n",
    "            ] # <-- this is NEW\n",
    "                 )"
   ]
  },
  {
   "cell_type": "markdown",
   "metadata": {},
   "source": [
    "# Use case with ecospold2\n",
    "\n",
    "The source database does not have to be from a brightway2 project.\n",
    "It can be directly extracted from the bunch of ecospold2 files one gets when downloaded from the [ecoinvent website](https://ecoinvent.org).\n",
    "\n",
    "For this, one needs to specify the argument `source_db = \"ecospold\"` as well as `source_file_path`, which is the directory leading to the ecospold files.\n",
    "\n",
    "For example, here we combine the use of a specific (non-default) IAM scenario file with the use of ecospold2 files as data source (ecoinvent 3.5 in this case)."
   ]
  },
  {
   "cell_type": "code",
   "execution_count": null,
   "metadata": {},
   "outputs": [],
   "source": [
    "ndb = NewDatabase(\n",
    "        scenarios = [\n",
    "            {\"model\":\"remind\", \"pathway\":\"my_special_scenario\", \"year\":2028, \"filepath\":r\"C:\\Users\\sacchi_r\\Downloads\\REMIND\"}\n",
    "        ],        \n",
    "        source_type=\"ecospold\", # <--- this is NEW\n",
    "        source_file_path=r\"C:\\Users\\sacchi_r\\Dropbox\\Public\\ecoinvent 3.5_cutoff_ecoSpold02\\datasets\", # <-- this is NEW\n",
    "        source_version=\"3.5\",\n",
    "    )"
   ]
  },
  {
   "cell_type": "markdown",
   "metadata": {},
   "source": [
    "# Transformation functions\n",
    "\n",
    "These functions modify the extracted database:\n",
    "\n",
    "* **update_electricity()**: alignment of regional electricity production mixes as well as efficiencies for a number of\n",
    "  electricity production technologies, including Carbon Capture and Storage technologies.\n",
    "* **update_cement()**: adjustment of technologies for cement production (dry, semi-dry, wet, with pre-heater or not),\n",
    "  fuel efficiency of kilns, fuel mix of kilns (including biomass and waste fuels) and clinker-to-cement ratio.\n",
    "* **update_steel()**: adjustment of process efficiency, fuel mix and share of secondary steel in steel markets.\n",
    "* **update_solar_PV()**: adjustment of solar PV panels efficiency to the year considered.\n",
    "\n",
    "They can be applied *separately*, *consecutively* or *altogether* (using instead **.update_all()**).\n",
    "They will apply to all the scenario-specific databases listed in `scenarios`."
   ]
  },
  {
   "cell_type": "code",
   "execution_count": null,
   "metadata": {},
   "outputs": [],
   "source": [
    "ndb.update_all()"
   ]
  },
  {
   "cell_type": "markdown",
   "metadata": {},
   "source": [
    "#### Additional options for database creation with cars and truck inventories\n",
    "\n",
    "Two additional functions are available:\n",
    "* **update_cars()**: creates updated inventories for fleet average passenger cars and links back to activities that consume\n",
    "transport.\n",
    "* **update_trucks()**: creates updated inventories for fleet average lorry trucks and links back to activities that consume\n",
    "transport.\n",
    "\n",
    "\n",
    "By default, inventories for passenger cars and trucks are not added upon the creation of the database.\n",
    "But you can add them by adding the following keys to the scenario dictionary: `passenger cars` and `trucks`.\n",
    "This will create inventories for passenger cars and trucks for each region of the IAM model.\n",
    "\n",
    "For example, here we create car inventories in the first scenario (but only for the region *EUR*), and both cars and trucks inventories in the second scenario (for all regions). Leaving an empty dictionary indicates that we do not apply any filter in terms of regions and that we do not provide a fleet composition file (a default one is then used)."
   ]
  },
  {
   "cell_type": "code",
   "execution_count": 1,
   "metadata": {},
   "outputs": [],
   "source": [
    "from premise import *\n",
    "import brightway2 as bw\n",
    "bw.projects.set_current(\"article_carculator\")"
   ]
  },
  {
   "cell_type": "code",
   "execution_count": 2,
   "metadata": {},
   "outputs": [
    {
     "name": "stdout",
     "output_type": "stream",
     "text": [
      "No fleet composition file is provided for passenger_cars.Fleet average vehicles will be built using default fleet projection.\n",
      "No fleet composition file is provided for trucks.Fleet average vehicles will be built using default fleet projection.\n",
      "\n",
      "////////////////////// EXTRACTING SOURCE DATABASE ///////////////////////\n",
      "Getting activity data\n"
     ]
    },
    {
     "name": "stderr",
     "output_type": "stream",
     "text": [
      "100%|████████████████████████████████| 19128/19128 [00:00<00:00, 117561.29it/s]\n"
     ]
    },
    {
     "name": "stdout",
     "output_type": "stream",
     "text": [
      "Adding exchange data to activities\n"
     ]
    },
    {
     "name": "stderr",
     "output_type": "stream",
     "text": [
      "100%|███████████████████████████████| 621719/621719 [00:44<00:00, 13985.72it/s]\n"
     ]
    },
    {
     "name": "stdout",
     "output_type": "stream",
     "text": [
      "Filling out exchange data\n"
     ]
    },
    {
     "name": "stderr",
     "output_type": "stream",
     "text": [
      "100%|██████████████████████████████████| 19128/19128 [00:04<00:00, 4723.92it/s]\n"
     ]
    },
    {
     "name": "stdout",
     "output_type": "stream",
     "text": [
      "Set missing location of datasets to global scope.\n",
      "Set missing location of production exchanges to scope of dataset.\n",
      "Correct missing location of technosphere exchanges.\n",
      "Remove empty exchanges.\n",
      "\n",
      "/////////////////// IMPORTING DEFAULT INVENTORIES ////////////////////\n",
      "Importing necessary inventories...\n",
      "\n",
      "Done!\n",
      "\n"
     ]
    }
   ],
   "source": [
    "ndb = NewDatabase(\n",
    "            scenarios=[\n",
    "                {'model':'remind','pathway':'SSP2-Base','year':'2020', \"passenger_cars\":{\"regions\":[\"EUR\"]}, \"trucks\":{\"regions\":[\"EUR\"]}},\n",
    "                #{\"model\":\"image\", \"pathway\":\"SSP2-Base\", \"year\":2034},\n",
    "            ],\n",
    "            key='xxxxxxxxxxxxxxxxxxxxxxxxx'\n",
    "            source_db=\"ecoinvent 3.7 cutoff\",\n",
    "            source_version=\"3.7\", \n",
    ")"
   ]
  },
  {
   "cell_type": "code",
   "execution_count": 3,
   "metadata": {},
   "outputs": [
    {
     "name": "stdout",
     "output_type": "stream",
     "text": [
      "\n",
      "/////////////////// MEDIUM AND HEAVY DUTY TRUCKS ////////////////////\n",
      "Regional delivery driving cycle is selected. Vehicles will be designed to achieve a minimal range of 400 km.\n",
      "\n",
      "Capacity utilization assumed (share of available payload used)\n",
      "+--------------+------+------+------+------+------+\n",
      "|              | 3.5t | 7.5t | 18t  | 26t  | 40t  |\n",
      "+--------------+------+------+------+------+------+\n",
      "|  BEV, 2010   | 0.6  | 0.41 | 0.42 | 0.38 | 0.36 |\n",
      "|  BEV, 2011   | 0.6  | 0.41 | 0.42 | 0.38 | 0.36 |\n",
      "|  BEV, 2012   | 0.6  | 0.41 | 0.42 | 0.38 | 0.36 |\n",
      "|  BEV, 2013   | 0.6  | 0.41 | 0.42 | 0.38 | 0.36 |\n",
      "|  BEV, 2014   | 0.6  | 0.41 | 0.42 | 0.38 | 0.36 |\n",
      "|  BEV, 2015   | 0.6  | 0.41 | 0.42 | 0.38 | 0.36 |\n",
      "|  BEV, 2016   | 0.6  | 0.41 | 0.42 | 0.38 | 0.36 |\n",
      "|  BEV, 2017   | 0.6  | 0.41 | 0.42 | 0.38 | 0.36 |\n",
      "|  BEV, 2018   | 0.6  | 0.41 | 0.42 | 0.38 | 0.36 |\n",
      "|  BEV, 2019   | 0.6  | 0.41 | 0.42 | 0.38 | 0.36 |\n",
      "|  BEV, 2020   | 0.6  | 0.41 | 0.42 | 0.38 | 0.36 |\n",
      "|  FCEV, 2010  | 0.6  | 0.41 | 0.42 | 0.38 | 0.36 |\n",
      "|  FCEV, 2011  | 0.6  | 0.41 | 0.42 | 0.38 | 0.36 |\n",
      "|  FCEV, 2012  | 0.6  | 0.41 | 0.42 | 0.38 | 0.36 |\n",
      "|  FCEV, 2013  | 0.6  | 0.41 | 0.42 | 0.38 | 0.36 |\n",
      "|  FCEV, 2014  | 0.6  | 0.41 | 0.42 | 0.38 | 0.36 |\n",
      "|  FCEV, 2015  | 0.6  | 0.41 | 0.42 | 0.38 | 0.36 |\n",
      "|  FCEV, 2016  | 0.6  | 0.41 | 0.42 | 0.38 | 0.36 |\n",
      "|  FCEV, 2017  | 0.6  | 0.41 | 0.42 | 0.38 | 0.36 |\n",
      "|  FCEV, 2018  | 0.6  | 0.41 | 0.42 | 0.38 | 0.36 |\n",
      "|  FCEV, 2019  | 0.6  | 0.41 | 0.42 | 0.38 | 0.36 |\n",
      "|  FCEV, 2020  | 0.6  | 0.41 | 0.42 | 0.38 | 0.36 |\n",
      "| ICEV-d, 2010 | 0.6  | 0.41 | 0.42 | 0.38 | 0.36 |\n",
      "| ICEV-d, 2011 | 0.6  | 0.41 | 0.42 | 0.38 | 0.36 |\n",
      "| ICEV-d, 2012 | 0.6  | 0.41 | 0.42 | 0.38 | 0.36 |\n",
      "| ICEV-d, 2013 | 0.6  | 0.41 | 0.42 | 0.38 | 0.36 |\n",
      "| ICEV-d, 2014 | 0.6  | 0.41 | 0.42 | 0.38 | 0.36 |\n",
      "| ICEV-d, 2015 | 0.6  | 0.41 | 0.42 | 0.38 | 0.36 |\n",
      "| ICEV-d, 2016 | 0.6  | 0.41 | 0.42 | 0.38 | 0.36 |\n",
      "| ICEV-d, 2017 | 0.6  | 0.41 | 0.42 | 0.38 | 0.36 |\n",
      "| ICEV-d, 2018 | 0.6  | 0.41 | 0.42 | 0.38 | 0.36 |\n",
      "| ICEV-d, 2019 | 0.6  | 0.41 | 0.42 | 0.38 | 0.36 |\n",
      "| ICEV-d, 2020 | 0.6  | 0.41 | 0.42 | 0.38 | 0.36 |\n",
      "| ICEV-g, 2010 | 0.6  | 0.41 | 0.42 | 0.38 | 0.36 |\n",
      "| ICEV-g, 2011 | 0.6  | 0.41 | 0.42 | 0.38 | 0.36 |\n",
      "| ICEV-g, 2012 | 0.6  | 0.41 | 0.42 | 0.38 | 0.36 |\n",
      "| ICEV-g, 2013 | 0.6  | 0.41 | 0.42 | 0.38 | 0.36 |\n",
      "| ICEV-g, 2014 | 0.6  | 0.41 | 0.42 | 0.38 | 0.36 |\n",
      "| ICEV-g, 2015 | 0.6  | 0.41 | 0.42 | 0.38 | 0.36 |\n",
      "| ICEV-g, 2016 | 0.6  | 0.41 | 0.42 | 0.38 | 0.36 |\n",
      "| ICEV-g, 2017 | 0.6  | 0.41 | 0.42 | 0.38 | 0.36 |\n",
      "| ICEV-g, 2018 | 0.6  | 0.41 | 0.42 | 0.38 | 0.36 |\n",
      "| ICEV-g, 2019 | 0.6  | 0.41 | 0.42 | 0.38 | 0.36 |\n",
      "| ICEV-g, 2020 | 0.6  | 0.41 | 0.42 | 0.38 | 0.36 |\n",
      "+--------------+------+------+------+------+------+\n",
      "Finding solutions for trucks...\n",
      "\n",
      "Payload (in tons)\n",
      "'-' BEV with driving mass superior to the permissible gross weight.\n",
      "'*' ICEV that do not comply wih energy reduction target.\n",
      "'/' vehicles not available for the specified year.\n",
      "+--------------+------+------+-----+-----+-----+\n",
      "|              | 3.5t | 7.5t | 18t | 26t | 40t |\n",
      "+--------------+------+------+-----+-----+-----+\n",
      "|  BEV, 2010   |  /   |  /   |  /  |  /  |  /  |\n",
      "|  BEV, 2011   |  /   |  /   |  /  |  /  |  /  |\n",
      "|  BEV, 2012   |  /   |  /   |  /  |  /  |  /  |\n",
      "|  BEV, 2013   |  /   |  /   |  /  |  /  |  /  |\n",
      "|  BEV, 2014   |  /   |  /   |  /  |  /  |  /  |\n",
      "|  BEV, 2015   |  /   |  /   |  /  |  /  |  /  |\n",
      "|  BEV, 2016   |  /   |  /   |  /  |  /  |  /  |\n",
      "|  BEV, 2017   |  /   |  /   |  /  |  /  |  /  |\n",
      "|  BEV, 2018   |  /   |  /   |  /  |  /  |  /  |\n",
      "|  BEV, 2019   |  /   |  /   |  /  |  /  |  /  |\n",
      "|  BEV, 2020   |  -   | 0.7  | 2.9 | 5.2 | 7.3 |\n",
      "|  FCEV, 2010  |  /   |  /   |  /  |  /  |  /  |\n",
      "|  FCEV, 2011  |  /   |  /   |  /  |  /  |  /  |\n",
      "|  FCEV, 2012  |  /   |  /   |  /  |  /  |  /  |\n",
      "|  FCEV, 2013  |  /   |  /   |  /  |  /  |  /  |\n",
      "|  FCEV, 2014  |  /   |  /   |  /  |  /  |  /  |\n",
      "|  FCEV, 2015  |  /   |  /   |  /  |  /  |  /  |\n",
      "|  FCEV, 2016  |  /   |  /   |  /  |  /  |  /  |\n",
      "|  FCEV, 2017  |  /   |  /   |  /  |  /  |  /  |\n",
      "|  FCEV, 2018  |  /   |  /   |  /  |  /  |  /  |\n",
      "|  FCEV, 2019  |  /   |  /   |  /  |  /  |  /  |\n",
      "|  FCEV, 2020  | 0.9  | 1.5  | 4.5 | 6.7 | 9.3 |\n",
      "| ICEV-d, 2010 | 0.7  | 1.3  | 4.1 | 6.3 | 9.0 |\n",
      "| ICEV-d, 2011 | 0.7  | 1.3  | 4.1 | 6.3 | 9.0 |\n",
      "| ICEV-d, 2012 | 0.7  | 1.3  | 4.1 | 6.3 | 9.1 |\n",
      "| ICEV-d, 2013 | 0.7  | 1.4  | 4.1 | 6.3 | 9.1 |\n",
      "| ICEV-d, 2014 | 0.7  | 1.4  | 4.2 | 6.4 | 9.1 |\n",
      "| ICEV-d, 2015 | 0.7  | 1.4  | 4.2 | 6.4 | 9.1 |\n",
      "| ICEV-d, 2016 | 0.7  | 1.4  | 4.2 | 6.4 | 9.1 |\n",
      "| ICEV-d, 2017 | 0.7  | 1.4  | 4.2 | 6.4 | 9.1 |\n",
      "| ICEV-d, 2018 | 0.7  | 1.4  | 4.2 | 6.4 | 9.1 |\n",
      "| ICEV-d, 2019 | 0.7  | 1.4  | 4.3 | 6.5 | 9.1 |\n",
      "| ICEV-d, 2020 | 0.8  | 1.4  | 4.3 | 6.5 | 9.2 |\n",
      "| ICEV-g, 2010 | 0.5  | 1.2  | 4.0 | 6.2 | 8.9 |\n",
      "| ICEV-g, 2011 | 0.5  | 1.2  | 4.0 | 6.2 | 8.9 |\n",
      "| ICEV-g, 2012 | 0.6  | 1.3  | 4.0 | 6.2 | 8.9 |\n",
      "| ICEV-g, 2013 | 0.6  | 1.3  | 4.0 | 6.2 | 8.9 |\n",
      "| ICEV-g, 2014 | 0.6  | 1.3  | 4.0 | 6.2 | 8.9 |\n",
      "| ICEV-g, 2015 | 0.6  | 1.3  | 4.0 | 6.3 | 8.9 |\n",
      "| ICEV-g, 2016 | 0.6  | 1.3  | 4.1 | 6.3 | 8.9 |\n",
      "| ICEV-g, 2017 | 0.6  | 1.3  | 4.1 | 6.3 | 8.9 |\n",
      "| ICEV-g, 2018 | 0.6  | 1.3  | 4.1 | 6.3 | 9.0 |\n",
      "| ICEV-g, 2019 | 0.6  | 1.3  | 4.1 | 6.3 | 9.0 |\n",
      "| ICEV-g, 2020 | 0.6  | 1.3  | 4.1 | 6.3 | 9.0 |\n",
      "+--------------+------+------+-----+-----+-----+\n",
      "****************** IMPORTANT BACKGROUND PARAMETERS ******************\n",
      " * The country of use is EUR\n",
      " * Energy batteries produced in CN using NMC chemistry.\n",
      " * electrolysis is completed by smr - natural gas.\n",
      " \t * in 2010 _________________________________________ 0.0%\n",
      " \t * in 2011 _________________________________________ 0.0%\n",
      " \t * in 2012 _________________________________________ 0.0%\n",
      " \t * in 2013 _________________________________________ 0.0%\n",
      " \t * in 2014 _________________________________________ 0.0%\n",
      " \t * in 2015 _________________________________________ 0.0%\n",
      " \t * in 2016 _________________________________________ 0.0%\n",
      " \t * in 2017 _________________________________________ 0.0%\n",
      " \t * in 2018 _________________________________________ 0.0%\n",
      " \t * in 2019 _________________________________________ 0.0%\n",
      " \t * in 2020 _________________________________________ 0.0%\n",
      " * cng is completed by biogas - sewage sludge.\n",
      " \t * in 2010 _________________________________________ 0.0%\n",
      " \t * in 2011 _________________________________________ 0.0%\n",
      " \t * in 2012 _________________________________________ 0.0%\n",
      " \t * in 2013 _________________________________________ 0.0%\n",
      " \t * in 2014 _________________________________________ 0.0%\n",
      " \t * in 2015 _________________________________________ 0.0%\n",
      " \t * in 2016 _________________________________________ 0.0%\n",
      " \t * in 2017 _________________________________________ 0.0%\n",
      " \t * in 2018 _________________________________________ 0.0%\n",
      " \t * in 2019 _________________________________________ 0.0%\n",
      " \t * in 2020 _________________________________________ 0.0%\n",
      " * diesel is completed by biodiesel - cooking oil.\n",
      " \t * in 2010 _________________________________________ 0.0%\n",
      " \t * in 2011 _________________________________________ 0.0%\n",
      " \t * in 2012 _________________________________________ 0.0%\n",
      " \t * in 2013 _________________________________________ 0.0%\n",
      " \t * in 2014 _________________________________________ 0.0%\n",
      " \t * in 2015 _________________________________________ 0.0%\n",
      " \t * in 2016 _________________________________________ 0.0%\n",
      " \t * in 2017 _________________________________________ 0.0%\n",
      " \t * in 2018 _________________________________________ 0.0%\n",
      " \t * in 2019 _________________________________________ 0.0%\n",
      " \t * in 2020 _________________________________________ 0.0%\n",
      " * *********************************************************************\n",
      "Building fleet average vehicles...\n"
     ]
    },
    {
     "name": "stderr",
     "output_type": "stream",
     "text": [
      "0% [##############################] 100% | ETA: 00:00:00 | Item ID: 1191\n",
      "Total time elapsed: 00:00:01\n"
     ]
    },
    {
     "name": "stdout",
     "output_type": "stream",
     "text": [
      "The following datasets to import already exist in the source database. They will not be imported\n",
      "+----------------------------------------------------+--------------------------------+----------------------------+------+\n",
      "|                        Name                        |       Reference product        |          Location          | File |\n",
      "+----------------------------------------------------+--------------------------------+----------------------------+------+\n",
      "|                  Lower retention                   |        Lower retention         |            GLO             |      |\n",
      "| Gasoline production, from methanol-to-gasoline pro |      Gasoline, synthetic       |            RER             |      |\n",
      "| Plant oil from crude oil | refining of vegetable o | Plant oil from crude oil | ref |            RER             |      |\n",
      "|             Ethanol from maize starch              |   Ethanol from maize starch    |            RER             |      |\n",
      "|  Ethanol, from maize starch, at fuelling station   | ethanol, without water, in 99. |            RER             |      |\n",
      "|          PEM electrolyzer, ACDC Converter          | PEM electrolyzer, ACDC Convert |            GLO             |      |\n",
      "| market for wood chips, wet, measured as dry mass,  | wood chips, wet, measured as d |             CH             |      |\n",
      "| Diesel production, synthetic, Fischer Tropsch proc |       Diesel, synthetic        |            RER             |      |\n",
      "| Hydrogen, gaseous, 700 bar, ATR of NG, at fuelling |   Hydrogen, gaseous, 700 bar   |            RER             |      |\n",
      "| wiring and tubing, carbon dioxide capture process  | wiring and tubing, carbon diox |            RER             |      |\n",
      "|                     Module lid                     |           Module lid           |            GLO             |      |\n",
      "|    PEM electrolyzer, Operation and Maintenance     | PEM electrolyzer, Operation an |            RER             |      |\n",
      "|     ATR NG + CCS (MDEA), 98 (average), 25 bar      |   Hydrogen, gaseous, 25 bar    |            RER             |      |\n",
      "| Hydrogen, gaseous, 700 bar, from SMR of NG, with C |   Hydrogen, gaseous, 700 bar   |            RER             |      |\n",
      "|             Carbon monoxide, from RWGS             |   Carbon monoxide, from RWGS   |            RER             |      |\n",
      "| Hydrogen, gaseous, 700 bar, from heatpipe reformer |   Hydrogen, gaseous, 700 bar   |            RER             |      |\n",
      "| Maize cultivation, drying and storage {RER} | Maiz | Maize cultivation, drying and  |            RER             |      |\n",
      "|                     Tray seal                      |           Tray seal            |            GLO             |      |\n",
      "|                 Waste Cooking Oil                  |       Waste Cooking Oil        |            RER             |      |\n",
      "|                High voltage system                 |      High voltage system       |            GLO             |      |\n",
      "| softwood forestry, spruce, sustainable forest mana | wood chips, wet, measured as d |             DE             |      |\n",
      "|                    Thermal pad                     |          Thermal pad           |            GLO             |      |\n",
      "| CO2 storage/at H2 production plant, pre, pipeline  | CO2 storage/at H2 production p |            RER             |      |\n",
      "|   hot water tank, carbon dioxide capture process   | hot water tank, carbon dioxide |            RER             |      |\n",
      "|     Biodiesel, from algae, at fuelling station     |    biodiesel, vehicle grade    |            RER             |      |\n",
      "|          Gas-to-liquid plant construction          |      Gas-to-liquid plant       |            GLO             |      |\n",
      "| hardwood forestry, mixed species, sustainable fore | hardwood forestry, mixed speci |             CH             |      |\n",
      "|                   straw pellets                    |         straw pellets          |            RER             |      |\n",
      "|                 End-busbar copper                  |       End-busbar copper        |            GLO             |      |\n",
      "|     SMR NG + CCS (MDEA), 98 (average), 25 bar      |   Hydrogen, gaseous, 25 bar    |             CH             |      |\n",
      "|           Bimetallic busbars and washers           | Bimetallic busbars and washers |            GLO             |      |\n",
      "|                   ATR NG, 25 bar                   |   Hydrogen, gaseous, 25 bar    |            RER             |      |\n",
      "|          woodchips from forestry residues          | woodchips from forestry residu |            RER             |      |\n",
      "| Oil Palm Tree Cultivation {RER} | Fresh Fruit Bunc | Oil Palm Tree Cultivation {RER |            RER             |      |\n",
      "| SMR BM, HT+LT, + CCS (MDEA), 98 (average), digesta |   Hydrogen, gaseous, 26 bar    |             CH             |      |\n",
      "|                 Low voltage system                 |       Low voltage system       |            GLO             |      |\n",
      "|          Hydrogen refuelling station, SMR          | Hydrogen refuelling station, S |            GLO             |      |\n",
      "| Hydrogen, gaseous, 25 bar, from heatpipe reformer  |   Hydrogen, gaseous, 25 bar    |            RER             |      |\n",
      "|        diaphragms, for diaphragm compressor        | diaphragms, for diaphragm comp |            GLO             |      |\n",
      "|              Positive active material              |    Positive active material    |            GLO             |      |\n",
      "|                Ni1/3Co1/3Mn1/3(OH)2                |      Ni1/3Co1/3Mn1/3(OH)2      |            GLO             |      |\n",
      "|                   SMR NG, 25 bar                   |         SMR NG, 25 bar         |             CH             |      |\n",
      "| Hydrogen, gaseous, 700 bar, from ATR of biogas wit |   Hydrogen, gaseous, 700 bar   |            RER             |      |\n",
      "|    Ethanol, from sugarbeet, at fuelling station    | ethanol, without water, in 99. |            RER             |      |\n",
      "|                      Cathode                       |            Cathode             |            GLO             |      |\n",
      "|              Positive electrode paste              |    Positive electrode paste    |            GLO             |      |\n",
      "|      carbon dioxide, captured from atmosphere      | carbon dioxide, captured from  |            RER             |      |\n",
      "|                    Buffer tank                     |          Buffer tank           |            GLO             |      |\n",
      "| Wheat grain cultivation, drying and storage {RER}  | Wheat grain cultivation, dryin |            RER             |      |\n",
      "| Hydrogen, gaseous, 700 bar, from heatpipe reformer |   Hydrogen, gaseous, 700 bar   |            RER             |      |\n",
      "|                    Battery tray                    |          Battery tray          |            GLO             |      |\n",
      "| Hydrogen, gaseous, 700 bar, from SMR of biogas, at |   Hydrogen, gaseous, 700 bar   |            RER             |      |\n",
      "|               ethanol without biogas               |     ethanol without biogas     |            RER             |      |\n",
      "|   Biodiesel, from palm oil, at fuelling station    |    biodiesel, vehicle grade    |            RER             |      |\n",
      "| hardwood forestry, birch, sustainable forest manag | wood chips, wet, measured as d |             SE             |      |\n",
      "| production of nickle-based catalyst for methanatio | production of nickle-based cat |            RER             |      |\n",
      "| market for wood chips, wet, measured as dry mass,  | wood chips, wet, measured as d | Europe without Switzerland |      |\n",
      "| biogas upgrading - sewage sludge - amine scrubbing | biogas upgrading - sewage slud |            RER             |      |\n",
      "|                   Cell container                   |         Cell container         |            GLO             |      |\n",
      "| container, with pipes and fittings, for diaphragm  | container, with pipes and fitt |            GLO             |      |\n",
      "|     market for styrene butadiene rubber (SBR)      | styrene butadiene rubber (SBR) |            RER             |      |\n",
      "| Crude Palm Oil extraction from FFBs {RER} |oil mil | Crude Palm Oil extraction from |            RER             |      |\n",
      "|                 Battery retention                  |       Battery retention        |            GLO             |      |\n",
      "|              Negative electrode paste              |    Negative electrode paste    |            GLO             |      |\n",
      "| Walls and foundations, for hydrogen refuelling sta | Walls and foundations, for hyd |            RER             |      |\n",
      "|                    Inner frame                     |          Inner frame           |            GLO             |      |\n",
      "|             Battery management system              |   Battery management system    |            GLO             |      |\n",
      "|       algae harvesting| dry algae production       | algae harvesting| dry algae pr |            RER             |      |\n",
      "| Biomethane, gaseous, 5 bar, from sewage sludge fer |   biomethane, high pressure    |            RER             |      |\n",
      "| Hydrogen, gaseous, 700 bar, from SMR of NG, at fue |   Hydrogen, gaseous, 700 bar   |            RER             |      |\n",
      "|                     Manifolds                      |           Manifolds            |            GLO             |      |\n",
      "| Gasoline, synthetic, from MTG, hydrogen from elect | gasoline, synthetic, vehicle g |            RER             |      |\n",
      "|                   RWGS catalyst                    |         RWGS catalyst          |            RER             |      |\n",
      "|             drilling, deep borehole/m              |   drilling, deep borehole/m    |            RER             |      |\n",
      "|               RWGS tank construction               |     RWGS tank construction     |            GLO             |      |\n",
      "|     diaphragm compressor module, high pressure     | diaphragm compressor module, h |            GLO             |      |\n",
      "|  transformer and rectifier unit, for electrolyzer  | transformer and rectifier unit |            GLO             |      |\n",
      "| softwood forestry, pine, sustainable forest manage | wood chips, wet, measured as d |             DE             |      |\n",
      "|    Hydrogen, gaseous, 25 bar, from electrolysis    |   Hydrogen, gaseous, 25 bar    |            RER             |      |\n",
      "|                Heat transfer plate                 |      Heat transfer plate       |            GLO             |      |\n",
      "| SMR BM, HT+LT, with digestate incineration, 26 bar |   Hydrogen, gaseous, 26 bar    |             CH             |      |\n",
      "|     algae cultivation | algae broth production     | algae cultivation | algae brot |            RER             |      |\n",
      "|                      Tray lid                      |            Tray lid            |            GLO             |      |\n",
      "| adsorption and desorption unit, carbon dioxide cap | adsorption and desorption unit |            RER             |      |\n",
      "|                  Module fasteners                  |        Module fasteners        |            GLO             |      |\n",
      "|                     Separator                      |           Separator            |            GLO             |      |\n",
      "|              PEM electrolyzer, Stack               |    PEM electrolyzer, Stack     |            GLO             |      |\n",
      "|            Ethanol from forest residues            |  Ethanol from forest residues  |            RER             |      |\n",
      "|      Hydrogen dispenser, for gaseous hydrogen      | Hydrogen dispenser, for gaseou |            GLO             |      |\n",
      "|           pipeline, supercritical CO2/km           | pipeline, supercritical CO2/km |            RER             |      |\n",
      "| hardwood forestry, beech, sustainable forest manag | wood chips, wet, measured as d |             DE             |      |\n",
      "| Biodiesel, from used cooking oil, at fuelling stat |    biodiesel, vehicle grade    |            RER             |      |\n",
      "|                       Anode                        |             Anode              |            GLO             |      |\n",
      "|                     Tab Copper                     |           Tab Copper           |            GLO             |      |\n",
      "| market for wood chips, wet, measured as dry mass,  | wood chips, wet, measured as d |             DE             |      |\n",
      "| Sugar beet cultivation {RER} | sugar beet producti | Sugar beet cultivation {RER} | |            RER             |      |\n",
      "|   production of 2 wt-% potassium iodide solution   | production of 2 wt-% potassium |            RER             |      |\n",
      "|             Biodiesel from cooking oil             |   Biodiesel from cooking oil   |            RER             |      |\n",
      "|           Negative current collector Cu            | Negative current collector Cu  |            GLO             |      |\n",
      "|            Biodiesel from rapeseed oil             |  Biodiesel from rapeseed oil   |            RER             |      |\n",
      "| Hydrogen, gaseous, 700 bar, from gasification of w |   Hydrogen, gaseous, 700 bar   |            RER             |      |\n",
      "| Methane, synthetic, gaseous, 5 bar, from electroch |     methane, high pressure     |            RER             |      |\n",
      "| Biodiesel, from rapeseed oil, at fuelling station  |    biodiesel, vehicle grade    |            RER             |      |\n",
      "| electricity production, at BIGCC power plant 450MW |   electricity, high voltage    |            RER             |      |\n",
      "|             Fixed bed reactor for RWGS             |       Fixed bed reactor        |            RER             |      |\n",
      "| electricity production, at power plant/biogas, pos |   electricity, high voltage    |            RER             |      |\n",
      "|              Biodiesel from palm oil               |    Biodiesel from palm oil     |            RER             |      |\n",
      "|    cooling unit, carbon dioxide capture process    | cooling unit, carbon dioxide c |            RER             |      |\n",
      "| electricity production, at power plant/natural gas |   electricity, high voltage    |            RER             |      |\n",
      "|                Clamps and fasteners                |      Clamps and fasteners      |            GLO             |      |\n",
      "| electricity production, at power plant/hard coal,  |   electricity, high voltage    |            RER             |      |\n",
      "| Hydrogen, gaseous, 700 bar, from electrolysis, at  |   Hydrogen, gaseous, 700 bar   |            RER             |      |\n",
      "| storage module, high pressure, at fuelling station | storage module, high pressure, |            GLO             |      |\n",
      "|                  SMR NG, 700 bar                   |        SMR NG, 700 bar         |             CH             |      |\n",
      "|                Biodiesel from algae                |      Biodiesel from algae      |            RER             |      |\n",
      "| Hydrogen, gaseous, 25 bar, from gasification of wo |   Hydrogen, gaseous, 25 bar    |            RER             |      |\n",
      "|   control panel, carbon dioxide capture process    | control panel, carbon dioxide  |            RER             |      |\n",
      "|                    Tab Aluminum                    |          Tab Aluminum          |            GLO             |      |\n",
      "|           Straw bales | baling of straw            | Straw bales | baling of straw  |            RER             |      |\n",
      "|               Methanol distillation                |       Purified methanol        |            RER             |      |\n",
      "|           carbon dioxide capture system            | carbon dioxide capture system  |            RER             |      |\n",
      "|                   Cooling system                   |         Cooling system         |            GLO             |      |\n",
      "| Hydrogen, gaseous, 700 bar, from ATR of biogas, at |   Hydrogen, gaseous, 700 bar   |            RER             |      |\n",
      "| ATR BM + CCS (MDEA), 98 (average), with digestate  |   Hydrogen, gaseous, 25 bar    |             CH             |      |\n",
      "|        Disposal, hydrogen fuelling station         | Disposal, hydrogen fuelling st |            RER             |      |\n",
      "| Diesel, synthetic, from electrolysis-based hydroge | diesel, synthetic, vehicle gra |            RER             |      |\n",
      "| electricity production, at wood burning power plan |   electricity, high voltage    |            RER             |      |\n",
      "|  Ethanol, from wheat grains, at fuelling station   | ethanol, without water, in 99. |            RER             |      |\n",
      "| softwood forestry, mixed species, sustainable fore | softwood forestry, mixed speci |             CH             |      |\n",
      "|             Ethanol from wheat grains              |   Ethanol from wheat grains    |            RER             |      |\n",
      "|           Positive current collector Al            | Positive current collector Al  |            GLO             |      |\n",
      "| Hydrogen, gaseous, 25 bar, from gasification of wo |   Hydrogen, gaseous, 25 bar    |            RER             |      |\n",
      "|                        IBIS                        |              IBIS              |            GLO             |      |\n",
      "|                   IBIS fasteners                   |         IBIS fasteners         |            GLO             |      |\n",
      "| Hydrogen, gaseous, 30 bar, from hard coal gasifica |   Hydrogen, gaseous, 30 bar    |            RER             |      |\n",
      "|                      Radiator                      |            Radiator            |            GLO             |      |\n",
      "|                    Outer frame                     |          Outer frame           |            GLO             |      |\n",
      "| Ethanol, from wheat straw pellets, at fuelling sta | ethanol, without water, in 99. |            RER             |      |\n",
      "|   heat exchanger, carbon dioxide capture process   | heat exchanger, carbon dioxide |            RER             |      |\n",
      "|                End-busbar aluminum                 |      End-busbar aluminum       |            GLO             |      |\n",
      "|                  Multilayer pouch                  |        Multilayer pouch        |            GLO             |      |\n",
      "| Hydrogen, gaseous, 700 bar, from gasification of w |   Hydrogen, gaseous, 700 bar   |            RER             |      |\n",
      "| Hydrogen, gaseous, 700 bar, from SMR of biogas wit |   Hydrogen, gaseous, 700 bar   |            RER             |      |\n",
      "|                  Module packaging                  |        Module packaging        |            GLO             |      |\n",
      "|                 Battery packaging                  |       Battery packaging        |            GLO             |      |\n",
      "| Gasoline production, from methanol-to-gasoline pro |      Gasoline, synthetic       |            RER             |      |\n",
      "|                 Methanol Synthesis                 |      Methanol, unpurified      |            RER             |      |\n",
      "|       MTG production facility, construction        | MTG production facility, const |            RER             |      |\n",
      "|                  Strap retention                   |        Strap retention         |            GLO             |      |\n",
      "| Diesel, synthetic, from electrolysis-based hydroge | diesel, synthetic, vehicle gra |            RER             |      |\n",
      "| Hydrogen, gaseous, 25 bar, from heatpipe reformer  |   Hydrogen, gaseous, 25 bar    |            RER             |      |\n",
      "|                    Electrolyte                     |          Electrolyte           |            GLO             |      |\n",
      "| Ethanol, from forest residues, at fuelling station | ethanol, without water, in 99. |            RER             |      |\n",
      "| Refined Waste Cooking Oil {RER} | Refining of wast | Refined Waste Cooking Oil {RER |            RER             |      |\n",
      "|                Tray with fasteners                 |      Tray with fasteners       |            GLO             |      |\n",
      "| Hydrogen, gaseous, 700 bar, ATR of NG, with CCS, a |   Hydrogen, gaseous, 700 bar   |            RER             |      |\n",
      "|                    Pipe fitting                    |          Pipe fitting          |            GLO             |      |\n",
      "|         PEM electrolyzer, Balance of Plant         | PEM electrolyzer, Balance of P |            GLO             |      |\n",
      "|       pumps, carbon dioxide capture process        | pumps, carbon dioxide capture  |            RER             |      |\n",
      "|   frequency converter, for diaphragm compressor    | frequency converter, for diaph |            GLO             |      |\n",
      "|          Ethanol from wheat straw pellets          | Ethanol from wheat straw pelle |            RER             |      |\n",
      "| softwood forestry, pine, sustainable forest manage | wood chips, wet, measured as d |             SE             |      |\n",
      "| Rapeseed cultivation {RER} | rapeseed production E | Rapeseed cultivation {RER} | r |            RER             |      |\n",
      "|                    Battery BoP                     |          Battery BoP           |            GLO             |      |\n",
      "|              Syngas, RWGS, Production              |    Syngas, RWGS, Production    |            RER             |      |\n",
      "|                   Cobalt sulfate                   |         Cobalt sulfate         |            GLO             |      |\n",
      "| Plant oil production | refining of crude vegetable | Plant oil production | refinin |            RER             |      |\n",
      "|               Ethanol from sugarbeet               |     Ethanol from sugarbeet     |            RER             |      |\n",
      "| softwood forestry, spruce, sustainable forest mana | wood chips, wet, measured as d |             SE             |      |\n",
      "|    ATR BM, with digestate incineration, 25 bar     |   Hydrogen, gaseous, 25 bar    |             CH             |      |\n",
      "| Crude vegetable oil | oil mill: extraction of vege | Crude vegetable oil | oil mill |            RER             |      |\n",
      "|                 Battery cell, NMC                  |          Battery cell          |            GLO             |      |\n",
      "| Gasoline, synthetic, from MTG, hydrogen from elect | gasoline, synthetic, vehicle g |            RER             |      |\n",
      "| Diesel production, synthetic, Fischer Tropsch proc |       Diesel, synthetic        |            RER             |      |\n",
      "| hardwood forestry, oak, sustainable forest managem | wood chips, wet, measured as d |             DE             |      |\n",
      "|     SMR NG + CCS (MDEA), 98 (average), 700 bar     |     SMR NG + CCS, 700 bar      |             CH             |      |\n",
      "|         Sabatier reaction methanation unit         | Sabatier reaction methanation  |            RER             |      |\n",
      "| market for wood chips, wet, measured as dry mass,  | wood chips, wet, measured as d |             SE             |      |\n",
      "+----------------------------------------------------+--------------------------------+----------------------------+------+\n"
     ]
    },
    {
     "name": "stderr",
     "output_type": "stream",
     "text": [
      "RER  not found in regex\n"
     ]
    },
    {
     "name": "stdout",
     "output_type": "stream",
     "text": [
      "Cannot find the IAM location for RER w/o RU from IAM model remind.\n"
     ]
    }
   ],
   "source": [
    "ndb.update_trucks()"
   ]
  },
  {
   "cell_type": "code",
   "execution_count": null,
   "metadata": {},
   "outputs": [],
   "source": [
    "ndb.update_electricity()"
   ]
  },
  {
   "cell_type": "markdown",
   "metadata": {},
   "source": [
    "Then we need to explicitly run `update_cars()` and/or `update_trucks()` (or `update_all()`)."
   ]
  },
  {
   "cell_type": "code",
   "execution_count": null,
   "metadata": {},
   "outputs": [],
   "source": [
    "ndb.update_cars()"
   ]
  },
  {
   "cell_type": "code",
   "execution_count": null,
   "metadata": {},
   "outputs": [],
   "source": [
    "ndb.update_trucks()"
   ]
  },
  {
   "cell_type": "code",
   "execution_count": null,
   "metadata": {
    "scrolled": false
   },
   "outputs": [],
   "source": [
    "ndb.write_db_to_brightway()"
   ]
  },
  {
   "cell_type": "markdown",
   "metadata": {},
   "source": [
    "You can also give your datababase a custom name."
   ]
  },
  {
   "cell_type": "code",
   "execution_count": 5,
   "metadata": {},
   "outputs": [
    {
     "name": "stdout",
     "output_type": "stream",
     "text": [
      "Write new database(s) to Brightway2.\n",
      "19984 datasets\n",
      "644054 exchanges\n",
      "0 unlinked exchanges\n",
      "  \n"
     ]
    },
    {
     "name": "stderr",
     "output_type": "stream",
     "text": [
      "Writing activities to SQLite3 database:\n",
      "0% [##############################] 100% | ETA: 00:00:00\n",
      "Total time elapsed: 00:04:37\n"
     ]
    },
    {
     "name": "stdout",
     "output_type": "stream",
     "text": [
      "Title: Writing activities to SQLite3 database:\n",
      "  Started: 03/16/2021 12:08:25\n",
      "  Finished: 03/16/2021 12:13:02\n",
      "  Total time elapsed: 00:04:37\n",
      "  CPU %: 54.30\n",
      "  Memory %: 37.41\n",
      "Created database: my_custom_name_1\n",
      "20883 datasets\n",
      "663097 exchanges\n",
      "0 unlinked exchanges\n",
      "  \n"
     ]
    },
    {
     "name": "stderr",
     "output_type": "stream",
     "text": [
      "Writing activities to SQLite3 database:\n",
      "0% [##############################] 100% | ETA: 00:00:00\n",
      "Total time elapsed: 00:05:33\n"
     ]
    },
    {
     "name": "stdout",
     "output_type": "stream",
     "text": [
      "Title: Writing activities to SQLite3 database:\n",
      "  Started: 03/16/2021 12:17:30\n",
      "  Finished: 03/16/2021 12:23:03\n",
      "  Total time elapsed: 00:05:33\n",
      "  CPU %: 48.10\n",
      "  Memory %: 35.99\n",
      "Created database: my_custom_name_2\n"
     ]
    }
   ],
   "source": [
    "ndb.write_db_to_brightway(name=[\"my_custom_name_1\", \"my_custom_name_2\"])"
   ]
  },
  {
   "cell_type": "markdown",
   "metadata": {},
   "source": [
    "### Fleet files\n",
    "\n",
    "A last word about passenger cars and trucks: it is possible to pass a custom fleet composition file to generate fleet average inventories and limit those to specific regions (here, the European region)."
   ]
  },
  {
   "cell_type": "code",
   "execution_count": null,
   "metadata": {
    "scrolled": true
   },
   "outputs": [],
   "source": [
    "ndb = NewDatabase(\n",
    "            scenarios=[\n",
    "                {\"model\":\"remind\", \"pathway\":\"SSP2-Base\", \"year\":2030,\n",
    "                 \"passenger cars\": {\"regions\":[\"EUR\", \"NEU\"],\n",
    "                                    \"fleet file\":r\"filepath/to/fleet_file.csv.csv\"},\n",
    "                 \"trucks\": {\"regions\":[\"EUR\"]}\n",
    "                },\n",
    "                {\"model\":\"image\", \"pathway\":\"SSP2-Base\", \"year\":2030,},\n",
    "            ],\n",
    "            key='xxxxxxxxxxxxxxxxxxxxxxxxx'\n",
    "            source_db=\"ecoinvent 3.7 cutoff\",\n",
    "            source_version=\"3.7\"\n",
    "    )"
   ]
  },
  {
   "cell_type": "markdown",
   "metadata": {},
   "source": [
    "### Exclude specific functions\n",
    "Finally, we can exclude some transformation functions when executing `update_all()` like so:"
   ]
  },
  {
   "cell_type": "code",
   "execution_count": null,
   "metadata": {},
   "outputs": [],
   "source": [
    "ndb = NewDatabase(\n",
    "            scenarios=[\n",
    "                {\"model\":\"remind\", \"pathway\":\"SSP2-Base\", \"year\":2030,\n",
    "                 \"exclude\": [\"update_steel\"], # <-- do not execute update_seel()\n",
    "                 \"passenger cars\": {\"regions\":[\"EUR\"]},\"trucks\": {\"regions\":[\"EUR\"]}\n",
    "                },\n",
    "                {\"model\":\"remind\", \"pathway\":\"SSP2-Base\", \"year\":2030,},\n",
    "            ],\n",
    "            key='xxxxxxxxxxxxxxxxxxxxxxxxx'\n",
    "            source_db=\"ecoinvent 3.7 cutoff\",\n",
    "            source_version=\"3.7\", \n",
    ")"
   ]
  },
  {
   "cell_type": "markdown",
   "metadata": {},
   "source": [
    "# Export"
   ]
  },
  {
   "cell_type": "markdown",
   "metadata": {},
   "source": [
    "### As a Brightway2 database"
   ]
  },
  {
   "cell_type": "markdown",
   "metadata": {},
   "source": [
    "Export the modified database to brightway2"
   ]
  },
  {
   "cell_type": "code",
   "execution_count": null,
   "metadata": {},
   "outputs": [],
   "source": [
    "ndb.write_db_to_brightway()"
   ]
  },
  {
   "cell_type": "markdown",
   "metadata": {},
   "source": [
    "### As a sparse matrix representation"
   ]
  },
  {
   "cell_type": "markdown",
   "metadata": {},
   "source": [
    "Or export it as a sparse matrix representation.\n",
    "\n",
    "This will export four files:\n",
    "\n",
    "* \"A_matrix.csv\": matrix coordinates and values of shape (index of activity; index of product; value) for the technosphere\n",
    "* \"A_matrix_index.csv\": labels for indices for A matrix of shape (name of activity, reference product, unit, location, index)\n",
    "* \"B_matrix.csv\": matrix coordinates and values of shape (index of activity; index of biosphere flow; value) for the biosphere\n",
    "* \"B_matrix_index.csv\": labels for indices for B matrix of shape (name of biosphere flow, main compartment, sub-compartmnet, unit, index)\n",
    "\n",
    "As a convenience, you can specifiy a directory where to store the exported matrices.\n",
    "If the directory does not exist, it will be created.\n",
    "If you leave it unspecified, they will be stored in **data/matrices** in the root folder of the library."
   ]
  },
  {
   "cell_type": "code",
   "execution_count": null,
   "metadata": {},
   "outputs": [],
   "source": [
    "ndb.write_db_to_matrices(filepath=r\"C:/Users/sacchi_r/Downloads/exported_matrices\")"
   ]
  },
  {
   "cell_type": "markdown",
   "metadata": {},
   "source": [
    "### As a SimaPro CSV file"
   ]
  },
  {
   "cell_type": "code",
   "execution_count": null,
   "metadata": {},
   "outputs": [],
   "source": [
    "ndb.write_db_to_simapro(filepath=r\"C:/Users/sacchi_r/Downloads/exported_simapro_file\")"
   ]
  },
  {
   "cell_type": "code",
   "execution_count": null,
   "metadata": {},
   "outputs": [],
   "source": []
  }
 ],
 "metadata": {
  "kernelspec": {
   "display_name": "Python 3",
   "language": "python",
   "name": "python3"
  },
  "language_info": {
   "codemirror_mode": {
    "name": "ipython",
    "version": 3
   },
   "file_extension": ".py",
   "mimetype": "text/x-python",
   "name": "python",
   "nbconvert_exporter": "python",
   "pygments_lexer": "ipython3",
   "version": "3.9.1"
  }
 },
 "nbformat": 4,
 "nbformat_minor": 2
}
